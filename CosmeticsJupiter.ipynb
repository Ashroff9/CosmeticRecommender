{
 "cells": [
  {
   "cell_type": "code",
   "execution_count": null,
   "id": "3e72c3e2-273d-4846-92d8-b3b7f0896343",
   "metadata": {},
   "outputs": [],
   "source": [
    "# Cosmetic Ingredient Recommendation System\n",
    "\n",
    "**Problem:** Choosing the right cosmetic product for dry/sensitive skin is hard due to complex ingredient lists.\n",
    "\n",
    "**Goal:** Build a content-based recommendation system using cosmetic ingredient data.\n",
    "\n",
    "**Data Source:** 1472 Sephora products with ingredient details.\n"
   ]
  },
  {
   "cell_type": "code",
   "execution_count": null,
   "id": "7499656c-e174-40c7-a65d-df4e21c45140",
   "metadata": {},
   "outputs": [],
   "source": [
    "import pandas as pd\n",
    "import numpy as np\n",
    "from sklearn.manifold import TSNE\n",
    "import matplotlib.pyplot as plt\n",
    "from bokeh.plotting import figure, show, output_notebook\n",
    "from bokeh.models import ColumnDataSource, HoverTool\n",
    "output_notebook()\n"
   ]
  },
  {
   "cell_type": "code",
   "execution_count": null,
   "id": "6caf1d41-d72c-4473-a4f2-3fcb4e05af69",
   "metadata": {},
   "outputs": [],
   "source": [
    "df = pd.read_csv(\"datasets/cosmetics.csv\")\n",
    "df.sample(5)\n",
    "df['Label'].value_counts()\n"
   ]
  },
  {
   "cell_type": "code",
   "execution_count": null,
   "id": "f9213d8b-bdfd-45d6-a2d2-a35ffef374f5",
   "metadata": {},
   "outputs": [],
   "source": [
    "moisturizers = df[df['Label'] == 'Moisturizer']\n",
    "moisturizers_dry = moisturizers[moisturizers['Dry'] == 1].reset_index(drop=True)\n",
    "moisturizers_dry.head()\n",
    "\n"
   ]
  },
  {
   "cell_type": "code",
   "execution_count": null,
   "id": "0824889b-80b2-476d-a520-bddeede1a3db",
   "metadata": {},
   "outputs": [],
   "source": [
    "corpus = []\n",
    "ingredient_idx = {}\n",
    "idx = 0\n",
    "\n",
    "for row in moisturizers_dry['Ingredients']:\n",
    "    tokens = row.lower().split(', ')\n",
    "    corpus.append(tokens)\n",
    "    for ing in tokens:\n",
    "        if ing not in ingredient_idx:\n",
    "            ingredient_idx[ing] = idx\n",
    "            idx += 1\n",
    "\n",
    "\n"
   ]
  },
  {
   "cell_type": "code",
   "execution_count": null,
   "id": "dc73851f-dfa8-4d2f-8a50-7993345679bd",
   "metadata": {},
   "outputs": [],
   "source": [
    "M = len(moisturizers_dry)\n",
    "N = len(ingredient_idx)\n",
    "A = np.zeros((M, N))\n",
    "\n",
    "\n"
   ]
  },
  {
   "cell_type": "code",
   "execution_count": null,
   "id": "4b2a4c76-f4af-4a70-88ca-2ef01ea079d1",
   "metadata": {},
   "outputs": [],
   "source": [
    "def oh_encoder(tokens):\n",
    "    x = np.zeros(N)\n",
    "    for token in tokens:\n",
    "        if token in ingredient_idx:\n",
    "            x[ingredient_idx[token]] = 1\n",
    "    return x\n"
   ]
  },
  {
   "cell_type": "code",
   "execution_count": null,
   "id": "7b109147-c892-4417-97fe-96d3d1cc1b90",
   "metadata": {},
   "outputs": [],
   "source": [
    "for i, tokens in enumerate(corpus):\n",
    "    A[i] = oh_encoder(tokens)\n"
   ]
  },
  {
   "cell_type": "code",
   "execution_count": null,
   "id": "15663fed-1f8c-4f1d-ad43-0d3f061d423f",
   "metadata": {},
   "outputs": [],
   "source": [
    "model = TSNE(n_components=2, learning_rate=200, random_state=42)\n",
    "tsne_features = model.fit_transform(A)\n",
    "\n",
    "moisturizers_dry['X'] = tsne_features[:, 0]\n",
    "moisturizers_dry['Y'] = tsne_features[:, 1]\n"
   ]
  },
  {
   "cell_type": "code",
   "execution_count": null,
   "id": "94137293-df07-480e-b949-98baa30db316",
   "metadata": {},
   "outputs": [],
   "source": [
    "source = ColumnDataSource(data=moisturizers_dry)\n",
    "\n",
    "hover = HoverTool(tooltips=[\n",
    "    ('Item', '@Name'),\n",
    "    ('Brand', '@Brand'),\n",
    "    ('Price', '$@Price'),\n",
    "    ('Rank', '@Rank')\n",
    "])\n",
    "\n",
    "plot = figure(title=\"t-SNE Map of Moisturizers\", tools=[hover], width=800, height=500)\n",
    "plot.scatter('X', 'Y', source=source, size=8)\n",
    "\n",
    "show(plot)\n",
    "\n"
   ]
  },
  {
   "cell_type": "code",
   "execution_count": null,
   "id": "376a7be4-4063-43e0-b0b9-8591ff1fac7a",
   "metadata": {},
   "outputs": [],
   "source": [
    "\n",
    "product1 = moisturizers_dry[moisturizers_dry['Name'].str.contains(\"Color Control Cushion\", case=False)]\n",
    "product2 = moisturizers_dry[moisturizers_dry['Name'].str.contains(\"BB Cushion Hydra\", case=False)]\n",
    "\n",
    "display(product1[['Name', 'Ingredients']])\n",
    "display(product2[['Name', 'Ingredients']])\n"
   ]
  }
 ],
 "metadata": {
  "kernelspec": {
   "display_name": "Python 3 (ipykernel)",
   "language": "python",
   "name": "python3"
  },
  "language_info": {
   "codemirror_mode": {
    "name": "ipython",
    "version": 3
   },
   "file_extension": ".py",
   "mimetype": "text/x-python",
   "name": "python",
   "nbconvert_exporter": "python",
   "pygments_lexer": "ipython3",
   "version": "3.13.5"
  }
 },
 "nbformat": 4,
 "nbformat_minor": 5
}
